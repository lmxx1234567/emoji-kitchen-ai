{
 "cells": [
  {
   "cell_type": "code",
   "execution_count": null,
   "metadata": {},
   "outputs": [],
   "source": [
    "from model import ImageMerger\n",
    "import torch\n",
    "\n",
    "# Load the trained model\n",
    "device = torch.device(\"mps\")\n",
    "model_path = \"model_epoch_25.pth\"  # Adjust path if needed\n",
    "checkpoint = torch.load(model_path, map_location=device)\n",
    "model = ImageMerger().to(device)\n",
    "model.load_state_dict(checkpoint['model_state_dict'])\n",
    "model.eval()  # Set model to evaluation mode"
   ]
  },
  {
   "cell_type": "code",
   "execution_count": null,
   "metadata": {},
   "outputs": [],
   "source": [
    "from dataset import getEmojiUrl\n",
    "from PIL import Image\n",
    "import requests\n",
    "from torchvision import transforms\n",
    "import matplotlib.pyplot as plt\n",
    "\n",
    "# Function to load an image from URL and apply transformations\n",
    "def load_image_from_url(url, size=128):\n",
    "    transform = transforms.Compose([transforms.Resize((size, size)), transforms.ToTensor()])\n",
    "    return transform(Image.open(requests.get(url, stream=True).raw))\n",
    "\n",
    "# Load a few pairs of images\n",
    "image_pairs = [\n",
    "    (\"1fa84\", \"2615\"),\n",
    "    (\"1f600\", \"2615\"),  # Add as many pairs as you want to check\n",
    "]\n",
    "\n",
    "# Plot and predict\n",
    "for left_emoji, right_emoji in image_pairs:\n",
    "    left_img_url = getEmojiUrl(left_emoji)\n",
    "    right_img_url = getEmojiUrl(right_emoji)\n",
    "    \n",
    "    left_img = load_image_from_url(left_img_url).unsqueeze(0).to(device)  # Add batch dimension\n",
    "    right_img = load_image_from_url(right_img_url).unsqueeze(0).to(device)  # Add batch dimension\n",
    "    \n",
    "    with torch.no_grad():\n",
    "        output = model(left_img, right_img)\n",
    "    \n",
    "    # Displaying images\n",
    "    fig, axs = plt.subplots(1, 3, figsize=(15, 5))\n",
    "    \n",
    "    axs[0].imshow(transforms.ToPILImage()(left_img.squeeze(0).cpu()))\n",
    "    axs[0].set_title(\"Left Image\")\n",
    "    axs[0].axis('off')\n",
    "    \n",
    "    axs[1].imshow(transforms.ToPILImage()(right_img.squeeze(0).cpu()))\n",
    "    axs[1].set_title(\"Right Image\")\n",
    "    axs[1].axis('off')\n",
    "    \n",
    "    axs[2].imshow(transforms.ToPILImage()(output.squeeze(0).cpu()))\n",
    "    axs[2].set_title(\"Predicted Merged Image\")\n",
    "    axs[2].axis('off')\n",
    "    \n",
    "    plt.show()"
   ]
  }
 ],
 "metadata": {
  "kernelspec": {
   "display_name": "pytorch",
   "language": "python",
   "name": "python3"
  },
  "language_info": {
   "name": "python",
   "version": "3.10.12"
  },
  "orig_nbformat": 4
 },
 "nbformat": 4,
 "nbformat_minor": 2
}
